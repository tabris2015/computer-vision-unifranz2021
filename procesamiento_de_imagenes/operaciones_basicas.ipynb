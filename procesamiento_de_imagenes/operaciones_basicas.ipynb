{
 "cells": [
  {
   "cell_type": "markdown",
   "source": [
    "# OpenCV\n",
    "\n",
    "OpenCV es un conjunto de herramientas open source para aplicaciones de visión artificial. Contiene distintas utilidades y algoritmos implementados y optimizados para realizar operaciones comunes en pipelines de visión artificial:\n",
    "\n",
    " - Herramientas de lectura y escritura de imágenes y video.\n",
    " - Algoritmos optimizados (implementación en C++) accesibles.\n",
    " - Utilidades para creación de GUI.\n",
    " - Extensibilidad con otras herramientas y librerías.\n",
    " - Ampliamente usado en la industria y con una gran comunidad.\n",
    " - Documentación y material extensivo disponible en internet."
   ],
   "metadata": {}
  },
  {
   "cell_type": "markdown",
   "source": [
    "# Operaciones Básicas\n",
    "OpenCV usa arrays de Numpy para manipular imágenes en memoria. Los arrays de numpy son estructuras optimizadas para operaciones con arreglos multidimensionales similar a lo que se tiene en el entorno de Matlab.\n"
   ],
   "metadata": {}
  },
  {
   "cell_type": "markdown",
   "source": [
    "## Acceder y modificar pixeles"
   ],
   "metadata": {}
  },
  {
   "cell_type": "code",
   "execution_count": null,
   "source": [
    "import numpy as np\n",
    "import cv2\n",
    "\n",
    "# para cargar una imagen en memoria se usa la funcion imread()\n",
    "\n",
    "img = cv2.imread(\"lenna.png\")\n",
    "print(type(img))\n",
    "print(img.dtype)"
   ],
   "outputs": [],
   "metadata": {}
  },
  {
   "cell_type": "markdown",
   "source": [
    "Para acceder al valor de un pixel se usa la posicion en cada dimension `img[fila, col]`"
   ],
   "metadata": {}
  },
  {
   "cell_type": "code",
   "execution_count": null,
   "source": [
    "img[100, 100]"
   ],
   "outputs": [],
   "metadata": {}
  },
  {
   "cell_type": "markdown",
   "source": [
    "OpenCV usa por defecto una representación BGR, para ver el canal azul, podemos acceder al primer elemento del pixel."
   ],
   "metadata": {}
  },
  {
   "cell_type": "code",
   "execution_count": null,
   "source": [
    "img[100, 100, 0]"
   ],
   "outputs": [],
   "metadata": {}
  },
  {
   "cell_type": "markdown",
   "source": [
    "Para modificar el valor del pixel simplemente se puede asignar un nuevo valor:"
   ],
   "metadata": {}
  },
  {
   "cell_type": "code",
   "execution_count": null,
   "source": [
    "img[100, 100] = [255, 255, 255]"
   ],
   "outputs": [],
   "metadata": {}
  },
  {
   "cell_type": "markdown",
   "source": [
    "## Visualizar una imagen en un notebook de jupyter\n",
    "Para visualizar una imagen de OpenCV en un notebook de jupyter debemos usar la librería `matplotlib`"
   ],
   "metadata": {}
  },
  {
   "cell_type": "code",
   "execution_count": null,
   "source": [
    "import matplotlib.pyplot as plt\n",
    "%matplotlib inline\n",
    "\n",
    "plt.imshow(img)"
   ],
   "outputs": [],
   "metadata": {}
  },
  {
   "cell_type": "code",
   "execution_count": null,
   "source": [
    "# convertir a rgb\n",
    "img_rgb = cv2.cvtColor(img, cv2.COLOR_BGR2RGB)\n",
    "plt.imshow(img_rgb)"
   ],
   "outputs": [],
   "metadata": {}
  },
  {
   "cell_type": "code",
   "execution_count": null,
   "source": [
    "# usando una funcion\n",
    "\n",
    "def display(img):\n",
    "    plt.imshow(cv2.cvtColor(img, cv2.COLOR_BGR2RGB))"
   ],
   "outputs": [],
   "metadata": {}
  },
  {
   "cell_type": "code",
   "execution_count": null,
   "source": [
    "display(img)"
   ],
   "outputs": [],
   "metadata": {}
  },
  {
   "cell_type": "markdown",
   "source": [
    "## ROI\n",
    "La Región de Interés o ROI (Region of Interest) puede ser definida usando el indexado de numpy."
   ],
   "metadata": {}
  },
  {
   "cell_type": "code",
   "execution_count": null,
   "source": [
    "#           filas  , columnas\n",
    "display(img[200:400, 200:350])"
   ],
   "outputs": [],
   "metadata": {}
  },
  {
   "cell_type": "markdown",
   "source": [
    "## Operaciones sobre imágenes\n"
   ],
   "metadata": {}
  },
  {
   "cell_type": "markdown",
   "source": [
    "### Blending\n",
    "Se suman dos imágenes con distintos niveles de ponderación de manera que se pueda obtener una transparencia, se opera de acuerdo a la siguiente fórmula:\n",
    "\n",
    "$$g(x) = (1 - \\alpha)f_0(x) + \\alpha f_1(x)$$"
   ],
   "metadata": {}
  },
  {
   "cell_type": "code",
   "execution_count": null,
   "source": [
    "img1 = cv2.imread(\"lenna.png\")\n",
    "img2 = cv2.imread(\"opencv.png\")\n",
    "print(img1.shape, img2.shape)\n",
    "\n",
    "display(cv2.addWeighted(img1, 0.7, img2, 0.3, 0))"
   ],
   "outputs": [],
   "metadata": {}
  },
  {
   "cell_type": "markdown",
   "source": [
    "### Cambio de espacios de color\n",
    "Existen más de 150 operaciones para conversiones de espacios de color en OpenCV. Usaremos una vez más la función `cvtColor()` \n",
    "\n",
    "Para la conversión de BGR a HSV, es importante tomar en cuenta que los rangos para HSV son los siguientes:\n",
    "\n",
    "  - hue: [0, 179]\n",
    "  - saturation: [0, 255]\n",
    "  - value: [0, 255]"
   ],
   "metadata": {}
  },
  {
   "cell_type": "code",
   "execution_count": null,
   "source": [
    "img_hsv = cv2.cvtColor(img1, cv2.COLOR_BGR2HSV)\n",
    "\n",
    "print(img1[100, 100], img_hsv[100, 100])"
   ],
   "outputs": [],
   "metadata": {}
  },
  {
   "cell_type": "markdown",
   "source": [
    "### Escalado"
   ],
   "metadata": {}
  },
  {
   "cell_type": "code",
   "execution_count": null,
   "source": [
    "n_filas = 300\n",
    "n_cols = 700\n",
    "img_long = cv2.resize(img1, (n_filas, n_cols), interpolation=cv2.INTER_CUBIC)\n",
    "display(img_long)"
   ],
   "outputs": [],
   "metadata": {}
  },
  {
   "cell_type": "code",
   "execution_count": null,
   "source": [
    "factor_filas = 0.5\n",
    "factor_cols = 2\n",
    "\n",
    "display(cv2.resize(img1, None, fy=factor_filas, fx=factor_cols, interpolation=cv2.INTER_CUBIC))"
   ],
   "outputs": [],
   "metadata": {}
  },
  {
   "cell_type": "markdown",
   "source": [
    "### Rotación\n",
    "La rotación por un ángulo $\\theta$ se puede lograr en base a la siguiente transformación:\n",
    "\n",
    "$$ M = \\begin{bmatrix}cos(\\theta) & -sin(\\theta)\\\\ sin(\\theta) & cos(\\theta)\\end{bmatrix}$$\n",
    "\n",
    "En OpenCV se puede usar la funcion `getRotationMatrix2D` para obtener una matriz de tranformación afín que represente la rotación deseada, y luego aplicar esta transformación a la imagen:"
   ],
   "metadata": {}
  },
  {
   "cell_type": "code",
   "execution_count": null,
   "source": [
    "# obtener solamente el canal B\n",
    "img3 = img1#[:,:,0]\n",
    "\n",
    "filas, cols, _ = img3.shape\n",
    "theta = 45\n",
    "\n",
    "#                           (centro x      , centro y        , theta, escala)\n",
    "M = cv2.getRotationMatrix2D(((cols - 1) / 2, (filas - 1) / 2), theta, 1)\n",
    "#                     (img, matriz, size) \n",
    "display(cv2.warpAffine(img3, M, (cols, filas)))"
   ],
   "outputs": [],
   "metadata": {}
  },
  {
   "cell_type": "markdown",
   "source": [
    "## Ejercicio\n",
    "\n",
    "Superponer la imagen de la flecha roja del archivo `flecha.png` con un tamaño de 100x100 pixeles sobre la imagen de `lenna.png` en la **esquina superior derecha** rotado en un ángulo de **135 grados*, como se puede observar en el ejemplo:\n",
    "\n",
    "![result](output.png)"
   ],
   "metadata": {}
  },
  {
   "cell_type": "code",
   "execution_count": null,
   "source": [],
   "outputs": [],
   "metadata": {}
  }
 ],
 "metadata": {
  "orig_nbformat": 4,
  "language_info": {
   "name": "python",
   "version": "3.8.10",
   "mimetype": "text/x-python",
   "codemirror_mode": {
    "name": "ipython",
    "version": 3
   },
   "pygments_lexer": "ipython3",
   "nbconvert_exporter": "python",
   "file_extension": ".py"
  },
  "kernelspec": {
   "name": "python3",
   "display_name": "Python 3.8.10 64-bit ('unifranz': virtualenv)"
  },
  "interpreter": {
   "hash": "1ab428ee19fa23895928c57f899c1204b3d8696ddf62ae9fde4c203d22f384d0"
  }
 },
 "nbformat": 4,
 "nbformat_minor": 2
}