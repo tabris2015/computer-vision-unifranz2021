{
 "cells": [
  {
   "cell_type": "markdown",
   "metadata": {},
   "source": [
    "# Aprendizaje supervisado con redes neuronales\n",
    "\n",
    "Dentro del mundo del machine learning, existe un tipo de tarea llamado **aprendizaje supervisado**  en el cual se cuenta con ejemplos etiquetados previamente.\n",
    "\n",
    "Dentro del aprendizaje supervisado, por su parte, tenemos tareas de regresión y clasificación.\n",
    "\n",
    "  - **Regresión** Se tiene en la salida un número real con infinitos valores posibles en un rango determinado. Algunas aplicaciones de la regresión que podemos encontrar son por ejemplo, la predicción del precio de una casa.\n",
    "  - **Clasificación** Se tiene en la salida un conjunto finito de valores posibles. En el caso de la clasificación predecimos categorias. Un ejemplo de un algoritmo de clasificación podría ser la predicción una caries dados ciertos datos de un paciente.\n",
    "\n",
    "En este notebook veremos 2 ejemplos de cada uno de estos algoritmos."
   ]
  },
  {
   "cell_type": "code",
   "execution_count": 1,
   "metadata": {},
   "outputs": [
    {
     "name": "stderr",
     "output_type": "stream",
     "text": [
      "2021-10-14 20:13:12.273267: W tensorflow/stream_executor/platform/default/dso_loader.cc:64] Could not load dynamic library 'libcudart.so.11.0'; dlerror: libcudart.so.11.0: cannot open shared object file: No such file or directory\n",
      "2021-10-14 20:13:12.273297: I tensorflow/stream_executor/cuda/cudart_stub.cc:29] Ignore above cudart dlerror if you do not have a GPU set up on your machine.\n"
     ]
    }
   ],
   "source": [
    "import numpy as np\n",
    "import tensorflow as tf \n",
    "from sklearn.datasets import load_diabetes, load_breast_cancer\n"
   ]
  },
  {
   "cell_type": "markdown",
   "metadata": {},
   "source": [
    "## Regresión: Predicción de la prevalencia de diabetes en distintas etapas\n",
    "\n",
    "Desarrollaremos un modelo de predicción para un dataset que contiene información de 442 pacientes y una medida de la progresión de la enfermedad un año luego de la medición.\n",
    "\n",
    "Los campos del dataset son los siguientes:\n",
    "  \n",
    "  - edad en años\n",
    "  - sexo\n",
    "  - índice de masa corporal\n",
    "  - presión arterial promedio\n",
    "  - conteo de células T\n",
    "  - lipoproteinas de baja densidad\n",
    "  - lipoproteinas de alta densidad\n",
    "  - hormona estimulante de la tiroides\n",
    "  - lamotrigina\n",
    "  - nivel de azucar en la sangre\n",
    "\n",
    "La variable objetivo es una medida cuantitativa de progresión de la enfermedad un año después de la línea base.\n",
    "\n",
    "Nota: los 10 campos han sido previamente normalizados.\n",
    "\n",
    "Más información acerca del [dataset](https://www4.stat.ncsu.edu/~boos/var.select/diabetes.html)\n"
   ]
  },
  {
   "cell_type": "markdown",
   "metadata": {},
   "source": [
    "## Obtención del dataset\n",
    "\n",
    "Usaremos la función load_diabetes de scikit learn para importar el dataset en la memoria\n"
   ]
  },
  {
   "cell_type": "code",
   "execution_count": 2,
   "metadata": {
    "tags": []
   },
   "outputs": [
    {
     "name": "stdout",
     "output_type": "stream",
     "text": [
      "X: (442, 10), y: (442,)\n"
     ]
    }
   ],
   "source": [
    "X, y = load_diabetes(return_X_y=True)\n",
    "print(f'X: {X.shape}, y: {y.shape}')"
   ]
  },
  {
   "cell_type": "markdown",
   "metadata": {},
   "source": [
    "## Definición del modelo\n"
   ]
  },
  {
   "cell_type": "code",
   "execution_count": 3,
   "metadata": {},
   "outputs": [
    {
     "name": "stderr",
     "output_type": "stream",
     "text": [
      "2021-10-14 20:16:36.360371: I tensorflow/stream_executor/cuda/cuda_gpu_executor.cc:937] successful NUMA node read from SysFS had negative value (-1), but there must be at least one NUMA node, so returning NUMA node zero\n",
      "2021-10-14 20:16:36.360777: W tensorflow/stream_executor/platform/default/dso_loader.cc:64] Could not load dynamic library 'libcudart.so.11.0'; dlerror: libcudart.so.11.0: cannot open shared object file: No such file or directory\n",
      "2021-10-14 20:16:36.360806: W tensorflow/stream_executor/platform/default/dso_loader.cc:64] Could not load dynamic library 'libcublas.so.11'; dlerror: libcublas.so.11: cannot open shared object file: No such file or directory\n",
      "2021-10-14 20:16:36.360831: W tensorflow/stream_executor/platform/default/dso_loader.cc:64] Could not load dynamic library 'libcublasLt.so.11'; dlerror: libcublasLt.so.11: cannot open shared object file: No such file or directory\n",
      "2021-10-14 20:16:36.360855: W tensorflow/stream_executor/platform/default/dso_loader.cc:64] Could not load dynamic library 'libcufft.so.10'; dlerror: libcufft.so.10: cannot open shared object file: No such file or directory\n",
      "2021-10-14 20:16:36.360879: W tensorflow/stream_executor/platform/default/dso_loader.cc:64] Could not load dynamic library 'libcurand.so.10'; dlerror: libcurand.so.10: cannot open shared object file: No such file or directory\n",
      "2021-10-14 20:16:36.360903: W tensorflow/stream_executor/platform/default/dso_loader.cc:64] Could not load dynamic library 'libcusolver.so.11'; dlerror: libcusolver.so.11: cannot open shared object file: No such file or directory\n",
      "2021-10-14 20:16:36.360926: W tensorflow/stream_executor/platform/default/dso_loader.cc:64] Could not load dynamic library 'libcusparse.so.11'; dlerror: libcusparse.so.11: cannot open shared object file: No such file or directory\n",
      "2021-10-14 20:16:36.360951: W tensorflow/stream_executor/platform/default/dso_loader.cc:64] Could not load dynamic library 'libcudnn.so.8'; dlerror: libcudnn.so.8: cannot open shared object file: No such file or directory\n",
      "2021-10-14 20:16:36.360958: W tensorflow/core/common_runtime/gpu/gpu_device.cc:1835] Cannot dlopen some GPU libraries. Please make sure the missing libraries mentioned above are installed properly if you would like to use GPU. Follow the guide at https://www.tensorflow.org/install/gpu for how to download and setup the required libraries for your platform.\n",
      "Skipping registering GPU devices...\n",
      "2021-10-14 20:16:36.361250: I tensorflow/core/platform/cpu_feature_guard.cc:142] This TensorFlow binary is optimized with oneAPI Deep Neural Network Library (oneDNN) to use the following CPU instructions in performance-critical operations:  AVX2 FMA\n",
      "To enable them in other operations, rebuild TensorFlow with the appropriate compiler flags.\n"
     ]
    }
   ],
   "source": [
    "model = tf.keras.Sequential(\n",
    "    [\n",
    "        tf.keras.layers.Dense(64, input_shape=[10], activation='relu'),\n",
    "        tf.keras.layers.Dense(1)\n",
    "    ]\n",
    ")\n"
   ]
  },
  {
   "cell_type": "markdown",
   "metadata": {},
   "source": [
    "## Compilación del modelo\n"
   ]
  },
  {
   "cell_type": "code",
   "execution_count": 4,
   "metadata": {},
   "outputs": [],
   "source": [
    "model.compile(optimizer='sgd', loss='mean_squared_error')"
   ]
  },
  {
   "cell_type": "markdown",
   "metadata": {},
   "source": [
    "## Entrenamiento de la red"
   ]
  },
  {
   "cell_type": "code",
   "execution_count": 5,
   "metadata": {
    "tags": []
   },
   "outputs": [
    {
     "name": "stdout",
     "output_type": "stream",
     "text": [
      "Epoch 1/20\n",
      "14/14 [==============================] - 0s 634us/step - loss: 26351.5840\n",
      "Epoch 2/20\n",
      "14/14 [==============================] - 0s 560us/step - loss: 17623.3027\n",
      "Epoch 3/20\n",
      "14/14 [==============================] - 0s 426us/step - loss: 13501.1855\n",
      "Epoch 4/20\n",
      "14/14 [==============================] - 0s 482us/step - loss: 10231.0078\n"
     ]
    },
    {
     "name": "stderr",
     "output_type": "stream",
     "text": [
      "2021-10-14 20:17:13.095206: I tensorflow/compiler/mlir/mlir_graph_optimization_pass.cc:185] None of the MLIR Optimization Passes are enabled (registered 2)\n"
     ]
    },
    {
     "name": "stdout",
     "output_type": "stream",
     "text": [
      "Epoch 5/20\n",
      "14/14 [==============================] - 0s 622us/step - loss: 8369.6797\n",
      "Epoch 6/20\n",
      "14/14 [==============================] - 0s 487us/step - loss: 7308.6953\n",
      "Epoch 7/20\n",
      "14/14 [==============================] - 0s 558us/step - loss: 6713.3857\n",
      "Epoch 8/20\n",
      "14/14 [==============================] - 0s 499us/step - loss: 6373.0635\n",
      "Epoch 9/20\n",
      "14/14 [==============================] - 0s 567us/step - loss: 5879.7539\n",
      "Epoch 10/20\n",
      "14/14 [==============================] - 0s 416us/step - loss: 5730.8652\n",
      "Epoch 11/20\n",
      "14/14 [==============================] - 0s 523us/step - loss: 5988.1665\n",
      "Epoch 12/20\n",
      "14/14 [==============================] - 0s 454us/step - loss: 6130.4468\n",
      "Epoch 13/20\n",
      "14/14 [==============================] - 0s 363us/step - loss: 6044.9092\n",
      "Epoch 14/20\n",
      "14/14 [==============================] - 0s 356us/step - loss: 5996.2544\n",
      "Epoch 15/20\n",
      "14/14 [==============================] - 0s 666us/step - loss: 5969.2012\n",
      "Epoch 16/20\n",
      "14/14 [==============================] - 0s 349us/step - loss: 5954.9917\n",
      "Epoch 17/20\n",
      "14/14 [==============================] - 0s 489us/step - loss: 5944.0581\n",
      "Epoch 18/20\n",
      "14/14 [==============================] - 0s 439us/step - loss: 5939.9224\n",
      "Epoch 19/20\n",
      "14/14 [==============================] - 0s 400us/step - loss: 5934.7173\n",
      "Epoch 20/20\n",
      "14/14 [==============================] - 0s 512us/step - loss: 5935.4146\n"
     ]
    }
   ],
   "source": [
    "history = model.fit(X, y, epochs=20)"
   ]
  },
  {
   "cell_type": "code",
   "execution_count": 6,
   "metadata": {},
   "outputs": [
    {
     "data": {
      "image/png": "[encoded data removed]",
      "text/plain": [
       "<Figure size 432x288 with 1 Axes>"
      ]
     },
     "metadata": {
      "needs_background": "light"
     },
     "output_type": "display_data"
    }
   ],
   "source": [
    "import matplotlib.pyplot as plt\n",
    "plt.plot(history.history['loss'])\n",
    "plt.show()"
   ]
  },
  {
   "cell_type": "markdown",
   "metadata": {},
   "source": [
    "Como se pudo observar, el flujo de trabajo es exactamente igual al del anterior ejemplo. En general, todas las tareas de aprendizaje supervisado tienen un flujo similar. En este caso, hemos logrado entrenar un algoritmo de regresión usando una red neuronal de una sola capa. "
   ]
  },
  {
   "cell_type": "markdown",
   "metadata": {},
   "source": [
    "## Clasificación: Detección de tumores malignos\n",
    "\n",
    "Para la tarea de clasificación, usaremos un dataset con datos de 569 pacientes para el diagnóstico de cáncer de mama en base a datos sobre un tumor. En este caso se cuenta con 30 campos numéricos en cada registro. Entre los campos tenemos la siguiente información:\n",
    "\n",
    "  - Radio (media de las distancias desde el centro a los puntos en el perímetro del tumor)\n",
    "  - textura (desviación estándar de valores en escala de grises)\n",
    "  - perímetro\n",
    "  - área\n",
    "  - smoothness (variación local en distancias de radios)\n",
    "  - compactness ($\\frac{perimetro^2}{area} - 1$)\n",
    "  - concavidades (severidad de porciones cóncavas del contorno)\n",
    "  - puntos cóncavos (número de porciones cóncavas del contorno)\n",
    "  - simetría\n",
    "  - dimensión fractal.\n",
    "\n",
    "Se ha calculado la media, desviación estándar y el peor (media de los 3 peores valores) de las características para cada imagen resultando en 30 campos.\n",
    "\n",
    "Se tienen 2 clases, 1 = maligno, 0 = benigno.\n",
    "\n",
    "  "
   ]
  },
  {
   "cell_type": "markdown",
   "metadata": {},
   "source": [
    "## Obtención del dataset"
   ]
  },
  {
   "cell_type": "code",
   "execution_count": 11,
   "metadata": {
    "tags": []
   },
   "outputs": [
    {
     "name": "stdout",
     "output_type": "stream",
     "text": [
      "X: (569, 30), y: (569,)\n"
     ]
    }
   ],
   "source": [
    "X, y = load_breast_cancer(return_X_y=True)\n",
    "X = (X - np.mean(X, axis=0)) / np.std(X, axis=0)\n",
    "# y = (y - np.mean(y)) / np.std(y, axis=1)\n",
    "print(f'X: {X.shape}, y: {y.shape}')"
   ]
  },
  {
   "cell_type": "code",
   "execution_count": 12,
   "metadata": {
    "tags": []
   },
   "outputs": [
    {
     "name": "stdout",
     "output_type": "stream",
     "text": [
      "[1. 1. 1. 1. 1. 1. 1. 1. 1. 1. 1. 1. 1. 1. 1. 1. 1. 1. 1. 1. 1. 1. 1. 1.\n",
      " 1. 1. 1. 1. 1. 1.]\n"
     ]
    }
   ],
   "source": [
    "print(np.std(X, axis=0))"
   ]
  },
  {
   "cell_type": "markdown",
   "metadata": {},
   "source": [
    "## Definición del modelo"
   ]
  },
  {
   "cell_type": "code",
   "execution_count": 17,
   "metadata": {},
   "outputs": [],
   "source": [
    "model = tf.keras.Sequential(\n",
    "    [\n",
    "        tf.keras.layers.Dense(64, input_shape=[30], activation='relu'),\n",
    "        tf.keras.layers.Dense(1, activation='sigmoid')\n",
    "    ]\n",
    ")"
   ]
  },
  {
   "cell_type": "markdown",
   "metadata": {},
   "source": [
    "## Compilación del modelo "
   ]
  },
  {
   "cell_type": "code",
   "execution_count": 18,
   "metadata": {},
   "outputs": [],
   "source": [
    "model.compile(optimizer='sgd', loss='binary_crossentropy')"
   ]
  },
  {
   "cell_type": "markdown",
   "metadata": {},
   "source": [
    "## Entrenamiento"
   ]
  },
  {
   "cell_type": "code",
   "execution_count": 19,
   "metadata": {
    "tags": []
   },
   "outputs": [
    {
     "name": "stdout",
     "output_type": "stream",
     "text": [
      "Epoch 1/100\n",
      "18/18 [==============================] - 0s 629us/step - loss: 0.6437\n",
      "Epoch 2/100\n",
      "18/18 [==============================] - 0s 509us/step - loss: 0.4877\n",
      "Epoch 3/100\n",
      "18/18 [==============================] - 0s 506us/step - loss: 0.3991\n",
      "Epoch 4/100\n",
      "18/18 [==============================] - 0s 510us/step - loss: 0.3430\n",
      "Epoch 5/100\n",
      "18/18 [==============================] - 0s 523us/step - loss: 0.3036\n",
      "Epoch 6/100\n",
      "18/18 [==============================] - 0s 532us/step - loss: 0.2744\n",
      "Epoch 7/100\n",
      "18/18 [==============================] - 0s 456us/step - loss: 0.2521\n",
      "Epoch 8/100\n",
      "18/18 [==============================] - 0s 439us/step - loss: 0.2342\n",
      "Epoch 9/100\n",
      "18/18 [==============================] - 0s 542us/step - loss: 0.2194\n",
      "Epoch 10/100\n",
      "18/18 [==============================] - 0s 481us/step - loss: 0.2073\n",
      "Epoch 11/100\n",
      "18/18 [==============================] - 0s 534us/step - loss: 0.1969\n",
      "Epoch 12/100\n",
      "18/18 [==============================] - 0s 431us/step - loss: 0.1882\n",
      "Epoch 13/100\n",
      "18/18 [==============================] - 0s 551us/step - loss: 0.1805\n",
      "Epoch 14/100\n",
      "18/18 [==============================] - 0s 528us/step - loss: 0.1738\n",
      "Epoch 15/100\n",
      "18/18 [==============================] - 0s 503us/step - loss: 0.1677\n",
      "Epoch 16/100\n",
      "18/18 [==============================] - 0s 1ms/step - loss: 0.1623\n",
      "Epoch 17/100\n",
      "18/18 [==============================] - 0s 400us/step - loss: 0.1574\n",
      "Epoch 18/100\n",
      "18/18 [==============================] - 0s 391us/step - loss: 0.1530\n",
      "Epoch 19/100\n",
      "18/18 [==============================] - 0s 447us/step - loss: 0.1489\n",
      "Epoch 20/100\n",
      "18/18 [==============================] - 0s 549us/step - loss: 0.1452\n",
      "Epoch 21/100\n",
      "18/18 [==============================] - 0s 471us/step - loss: 0.1416\n",
      "Epoch 22/100\n",
      "18/18 [==============================] - 0s 504us/step - loss: 0.1384\n",
      "Epoch 23/100\n",
      "18/18 [==============================] - 0s 511us/step - loss: 0.1354\n",
      "Epoch 24/100\n",
      "18/18 [==============================] - 0s 660us/step - loss: 0.1326\n",
      "Epoch 25/100\n",
      "18/18 [==============================] - 0s 602us/step - loss: 0.1300\n",
      "Epoch 26/100\n",
      "18/18 [==============================] - 0s 397us/step - loss: 0.1275\n",
      "Epoch 27/100\n",
      "18/18 [==============================] - 0s 523us/step - loss: 0.1252\n",
      "Epoch 28/100\n",
      "18/18 [==============================] - 0s 379us/step - loss: 0.1230\n",
      "Epoch 29/100\n",
      "18/18 [==============================] - 0s 469us/step - loss: 0.1209\n",
      "Epoch 30/100\n",
      "18/18 [==============================] - 0s 559us/step - loss: 0.1189\n",
      "Epoch 31/100\n",
      "18/18 [==============================] - 0s 494us/step - loss: 0.1171\n",
      "Epoch 32/100\n",
      "18/18 [==============================] - 0s 434us/step - loss: 0.1152\n",
      "Epoch 33/100\n",
      "18/18 [==============================] - 0s 382us/step - loss: 0.1136\n",
      "Epoch 34/100\n",
      "18/18 [==============================] - 0s 384us/step - loss: 0.1119\n",
      "Epoch 35/100\n",
      "18/18 [==============================] - 0s 388us/step - loss: 0.1104\n",
      "Epoch 36/100\n",
      "18/18 [==============================] - 0s 449us/step - loss: 0.1090\n",
      "Epoch 37/100\n",
      "18/18 [==============================] - 0s 438us/step - loss: 0.1075\n",
      "Epoch 38/100\n",
      "18/18 [==============================] - 0s 517us/step - loss: 0.1062\n",
      "Epoch 39/100\n",
      "18/18 [==============================] - 0s 379us/step - loss: 0.1049\n",
      "Epoch 40/100\n",
      "18/18 [==============================] - 0s 504us/step - loss: 0.1036\n",
      "Epoch 41/100\n",
      "18/18 [==============================] - 0s 472us/step - loss: 0.1024\n",
      "Epoch 42/100\n",
      "18/18 [==============================] - 0s 565us/step - loss: 0.1012\n",
      "Epoch 43/100\n",
      "18/18 [==============================] - 0s 558us/step - loss: 0.1001\n",
      "Epoch 44/100\n",
      "18/18 [==============================] - 0s 403us/step - loss: 0.0991\n",
      "Epoch 45/100\n",
      "18/18 [==============================] - 0s 410us/step - loss: 0.0980\n",
      "Epoch 46/100\n",
      "18/18 [==============================] - 0s 523us/step - loss: 0.0970\n",
      "Epoch 47/100\n",
      "18/18 [==============================] - 0s 463us/step - loss: 0.0960\n",
      "Epoch 48/100\n",
      "18/18 [==============================] - 0s 510us/step - loss: 0.0951\n",
      "Epoch 49/100\n",
      "18/18 [==============================] - 0s 441us/step - loss: 0.0942\n",
      "Epoch 50/100\n",
      "18/18 [==============================] - 0s 548us/step - loss: 0.0933\n",
      "Epoch 51/100\n",
      "18/18 [==============================] - 0s 554us/step - loss: 0.0924\n",
      "Epoch 52/100\n",
      "18/18 [==============================] - 0s 456us/step - loss: 0.0916\n",
      "Epoch 53/100\n",
      "18/18 [==============================] - 0s 620us/step - loss: 0.0908\n",
      "Epoch 54/100\n",
      "18/18 [==============================] - 0s 592us/step - loss: 0.0900\n",
      "Epoch 55/100\n",
      "18/18 [==============================] - 0s 474us/step - loss: 0.0892\n",
      "Epoch 56/100\n",
      "18/18 [==============================] - 0s 540us/step - loss: 0.0885\n",
      "Epoch 57/100\n",
      "18/18 [==============================] - 0s 554us/step - loss: 0.0878\n",
      "Epoch 58/100\n",
      "18/18 [==============================] - 0s 512us/step - loss: 0.0871\n",
      "Epoch 59/100\n",
      "18/18 [==============================] - 0s 433us/step - loss: 0.0864\n",
      "Epoch 60/100\n",
      "18/18 [==============================] - 0s 598us/step - loss: 0.0857\n",
      "Epoch 61/100\n",
      "18/18 [==============================] - 0s 526us/step - loss: 0.0851\n",
      "Epoch 62/100\n",
      "18/18 [==============================] - 0s 486us/step - loss: 0.0845\n",
      "Epoch 63/100\n",
      "18/18 [==============================] - 0s 517us/step - loss: 0.0839\n",
      "Epoch 64/100\n",
      "18/18 [==============================] - 0s 568us/step - loss: 0.0833\n",
      "Epoch 65/100\n",
      "18/18 [==============================] - 0s 554us/step - loss: 0.0827\n",
      "Epoch 66/100\n",
      "18/18 [==============================] - 0s 535us/step - loss: 0.0821\n",
      "Epoch 67/100\n",
      "18/18 [==============================] - 0s 570us/step - loss: 0.0816\n",
      "Epoch 68/100\n",
      "18/18 [==============================] - 0s 584us/step - loss: 0.0810\n",
      "Epoch 69/100\n",
      "18/18 [==============================] - 0s 473us/step - loss: 0.0805\n",
      "Epoch 70/100\n",
      "18/18 [==============================] - 0s 467us/step - loss: 0.0800\n",
      "Epoch 71/100\n",
      "18/18 [==============================] - 0s 445us/step - loss: 0.0795\n",
      "Epoch 72/100\n",
      "18/18 [==============================] - 0s 604us/step - loss: 0.0791\n",
      "Epoch 73/100\n",
      "18/18 [==============================] - 0s 497us/step - loss: 0.0785\n",
      "Epoch 74/100\n",
      "18/18 [==============================] - 0s 454us/step - loss: 0.0781\n",
      "Epoch 75/100\n",
      "18/18 [==============================] - 0s 446us/step - loss: 0.0776\n",
      "Epoch 76/100\n",
      "18/18 [==============================] - 0s 607us/step - loss: 0.0771\n",
      "Epoch 77/100\n",
      "18/18 [==============================] - 0s 550us/step - loss: 0.0767\n",
      "Epoch 78/100\n",
      "18/18 [==============================] - 0s 602us/step - loss: 0.0762\n",
      "Epoch 79/100\n",
      "18/18 [==============================] - 0s 543us/step - loss: 0.0758\n",
      "Epoch 80/100\n",
      "18/18 [==============================] - 0s 485us/step - loss: 0.0754\n",
      "Epoch 81/100\n",
      "18/18 [==============================] - 0s 437us/step - loss: 0.0750\n",
      "Epoch 82/100\n",
      "18/18 [==============================] - 0s 494us/step - loss: 0.0746\n",
      "Epoch 83/100\n",
      "18/18 [==============================] - 0s 504us/step - loss: 0.0742\n",
      "Epoch 84/100\n",
      "18/18 [==============================] - 0s 570us/step - loss: 0.0737\n",
      "Epoch 85/100\n",
      "18/18 [==============================] - 0s 426us/step - loss: 0.0734\n",
      "Epoch 86/100\n",
      "18/18 [==============================] - 0s 532us/step - loss: 0.0730\n",
      "Epoch 87/100\n",
      "18/18 [==============================] - 0s 544us/step - loss: 0.0726\n",
      "Epoch 88/100\n",
      "18/18 [==============================] - 0s 489us/step - loss: 0.0723\n",
      "Epoch 89/100\n",
      "18/18 [==============================] - 0s 456us/step - loss: 0.0719\n",
      "Epoch 90/100\n",
      "18/18 [==============================] - 0s 430us/step - loss: 0.0716\n",
      "Epoch 91/100\n",
      "18/18 [==============================] - 0s 452us/step - loss: 0.0712\n",
      "Epoch 92/100\n",
      "18/18 [==============================] - 0s 1ms/step - loss: 0.0709\n",
      "Epoch 93/100\n",
      "18/18 [==============================] - 0s 740us/step - loss: 0.0705\n",
      "Epoch 94/100\n",
      "18/18 [==============================] - 0s 456us/step - loss: 0.0702\n",
      "Epoch 95/100\n",
      "18/18 [==============================] - 0s 547us/step - loss: 0.0699\n",
      "Epoch 96/100\n",
      "18/18 [==============================] - 0s 559us/step - loss: 0.0696\n",
      "Epoch 97/100\n",
      "18/18 [==============================] - 0s 576us/step - loss: 0.0693\n",
      "Epoch 98/100\n",
      "18/18 [==============================] - 0s 397us/step - loss: 0.0690\n",
      "Epoch 99/100\n",
      "18/18 [==============================] - 0s 496us/step - loss: 0.0687\n",
      "Epoch 100/100\n",
      "18/18 [==============================] - 0s 535us/step - loss: 0.0683\n"
     ]
    }
   ],
   "source": [
    "history = model.fit(X, y, epochs=100)"
   ]
  },
  {
   "cell_type": "code",
   "execution_count": 20,
   "metadata": {},
   "outputs": [
    {
     "data": {
      "image/png": "[encoded data removed]",
      "text/plain": [
       "<Figure size 432x288 with 1 Axes>"
      ]
     },
     "metadata": {
      "needs_background": "light"
     },
     "output_type": "display_data"
    }
   ],
   "source": [
    "import matplotlib.pyplot as plt\n",
    "plt.plot(history.history['loss'])\n",
    "plt.show()"
   ]
  }
 ],
 "metadata": {
  "interpreter": {
   "hash": "62eb3e910e44ea0e9978ea29c6f3fc7540fb99bfa181faf1a80d42ed442aa249"
  },
  "kernelspec": {
   "display_name": "Python 3.8.10 64-bit ('unifranz': virtualenv)",
   "name": "python3"
  },
  "language_info": {
   "codemirror_mode": {
    "name": "ipython",
    "version": 3
   },
   "file_extension": ".py",
   "mimetype": "text/x-python",
   "name": "python",
   "nbconvert_exporter": "python",
   "pygments_lexer": "ipython3",
   "version": "3.8.10"
  },
  "orig_nbformat": 2
 },
 "nbformat": 4,
 "nbformat_minor": 2
}
