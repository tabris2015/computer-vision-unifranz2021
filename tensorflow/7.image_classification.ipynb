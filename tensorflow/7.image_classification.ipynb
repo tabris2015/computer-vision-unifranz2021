{
 "cells": [
  {
   "cell_type": "markdown",
   "metadata": {},
   "source": [
    "# Clasificación de imágenes\n",
    "En este notebook se presentan diversas arquitecturas pre-entrenadas para la tarea de clasificación de imágenes."
   ]
  },
  {
   "cell_type": "code",
   "execution_count": null,
   "metadata": {},
   "outputs": [],
   "source": [
    "import numpy as np\n",
    "import tensorflow as tf\n",
    "from keras.preprocessing import image\n",
    "import matplotlib.pyplot as plt\n",
    "%matplotlib inline"
   ]
  },
  {
   "cell_type": "code",
   "execution_count": null,
   "metadata": {},
   "outputs": [],
   "source": [
    "def display(img, label):\n",
    "    plt.imshow(img)\n",
    "    plt.title(f\"Pred: {label}\")\n",
    "    plt.xticks([])\n",
    "    plt.yticks([])"
   ]
  },
  {
   "cell_type": "markdown",
   "metadata": {},
   "source": [
    "## VGG16"
   ]
  },
  {
   "cell_type": "code",
   "execution_count": null,
   "metadata": {},
   "outputs": [],
   "source": [
    "from keras.applications.vgg16 import VGG16, preprocess_input, decode_predictions\n",
    "\n",
    "model_vgg16 = VGG16(weights=\"imagenet\")\n",
    "\n",
    "img = image.load_img(\"pug.jpg\", target_size=(224, 224))\n",
    "\n",
    "x = image.img_to_array(img)\n",
    "x = np.expand_dims(x, axis=0)\n",
    "x = preprocess_input(x)\n",
    "\n",
    "preds = model_vgg16.predict(x)\n",
    "decoded = decode_predictions(preds, top=3)[0]\n",
    "print(f\"Prediction: {decoded}\")\n",
    "\n",
    "display(img, decoded[0][1])\n"
   ]
  },
  {
   "cell_type": "markdown",
   "metadata": {},
   "source": [
    "## ResNet"
   ]
  },
  {
   "cell_type": "code",
   "execution_count": null,
   "metadata": {},
   "outputs": [],
   "source": [
    "from keras.applications.resnet import ResNet50, preprocess_input, decode_predictions\n",
    "\n",
    "model_resnet50 = ResNet50(weights=\"imagenet\")\n",
    "\n",
    "img = image.load_img(\"pug.jpg\", target_size=(224, 224))\n",
    "\n",
    "x = image.img_to_array(img)\n",
    "x = np.expand_dims(x, axis=0)\n",
    "x = preprocess_input(x)\n",
    "\n",
    "preds = model_resnet50.predict(x)\n",
    "decoded = decode_predictions(preds, top=3)[0]\n",
    "print(f\"Prediction: {decoded}\")\n",
    "\n",
    "display(img, decoded[0][1])\n"
   ]
  },
  {
   "cell_type": "markdown",
   "metadata": {},
   "source": [
    "## MobileNet"
   ]
  },
  {
   "cell_type": "code",
   "execution_count": null,
   "metadata": {},
   "outputs": [],
   "source": [
    "from keras.applications.mobilenet import MobileNet, preprocess_input, decode_predictions\n",
    "\n",
    "model_mobilenet = MobileNet(weights=\"imagenet\")\n",
    "\n",
    "img = image.load_img(\"pug.jpg\", target_size=(224, 224))\n",
    "\n",
    "x = image.img_to_array(img)\n",
    "x = np.expand_dims(x, axis=0)\n",
    "x = preprocess_input(x)\n",
    "\n",
    "preds = model_mobilenet.predict(x)\n",
    "decoded = decode_predictions(preds, top=3)[0]\n",
    "print(f\"Prediction: {decoded}\")\n",
    "\n",
    "display(img, decoded[0][1])\n"
   ]
  },
  {
   "cell_type": "markdown",
   "metadata": {},
   "source": [
    "## EfficientNet"
   ]
  },
  {
   "cell_type": "code",
   "execution_count": null,
   "metadata": {},
   "outputs": [],
   "source": [
    "from keras.applications.efficientnet import EfficientNetB0, preprocess_input, decode_predictions\n",
    "\n",
    "model_efficientnet = EfficientNetB0(weights=\"imagenet\")\n",
    "\n",
    "img = image.load_img(\"pug.jpg\", target_size=(224, 224))\n",
    "\n",
    "x = image.img_to_array(img)\n",
    "x = np.expand_dims(x, axis=0)\n",
    "x = preprocess_input(x)\n",
    "\n",
    "preds = model_efficientnet.predict(x)\n",
    "decoded = decode_predictions(preds, top=3)[0]\n",
    "print(f\"Prediction: {decoded}\")\n",
    "\n",
    "display(img, decoded[0][1])\n"
   ]
  }
 ],
 "metadata": {
  "interpreter": {
   "hash": "62eb3e910e44ea0e9978ea29c6f3fc7540fb99bfa181faf1a80d42ed442aa249"
  },
  "kernelspec": {
   "display_name": "Python 3.8.10 64-bit ('unifranz': virtualenv)",
   "name": "python3"
  },
  "language_info": {
   "codemirror_mode": {
    "name": "ipython",
    "version": 3
   },
   "file_extension": ".py",
   "mimetype": "text/x-python",
   "name": "python",
   "nbconvert_exporter": "python",
   "pygments_lexer": "ipython3",
   "version": "3.8.10"
  },
  "orig_nbformat": 4
 },
 "nbformat": 4,
 "nbformat_minor": 2
}
