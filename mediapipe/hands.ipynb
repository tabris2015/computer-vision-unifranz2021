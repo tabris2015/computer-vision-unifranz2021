{
 "cells": [
  {
   "cell_type": "markdown",
   "metadata": {},
   "source": [
    "# Detección de manos\n",
    "\n",
    "MediaPipe incluye un modelo para la predicción del movimiento y articulación de las manos. Este modelo puede ser utilizado para implementar distintos niveles de interacción a través de una cámara.\n",
    "\n",
    "El modelo de inferencia detecta 21 marcadores de la mano a través de un pipelines con múltiples modelos trabajando de manera conjunta.\n",
    "Primero se cuenta con un detector de palmas sobre toda la imagen, posteriormente, un modelo de predicción de marcadores procesa la región con la palma. La estrategia es similar a la detección de marcadores faciales observada anteriormente.\n",
    "\n",
    " - **Detección de palmas**: se basa en una red de detección SSD optimizada. El modelo es capaz de detectar palmas incluso en distintos niveles de oclusión.\n",
    " - **Detección de marcadores**: Se utiliza un modelo de regresión que predice la localización de 21 marcadores de una mano. Se utilizan los siguientes marcadores:\n",
    "\n",
    " ![marcadores](hand_landmarks.png)"
   ]
  },
  {
   "cell_type": "code",
   "execution_count": 2,
   "metadata": {},
   "outputs": [],
   "source": [
    "import cv2\n",
    "import mediapipe as mp\n",
    "import matplotlib.pyplot as plt\n",
    "%matplotlib inline\n",
    "plt.rcParams['figure.figsize'] = [18, 8]    # incrementar tamaño de plots\n",
    "\n",
    "mp_hands = mp.solutions.hands\n",
    "mp_drawing = mp.solutions.drawing_utils\n",
    "mp_drawing_styles = mp.solutions.drawing_styles"
   ]
  },
  {
   "cell_type": "code",
   "execution_count": 3,
   "metadata": {},
   "outputs": [],
   "source": [
    "def display_color_row(*imgs):\n",
    "    for i, img in enumerate(imgs):\n",
    "        print(type(img), img.dtype, img[0,0])\n",
    "        plt.subplot(1, len(imgs), i + 1)\n",
    "        plt.imshow(img)\n",
    "        plt.title(f\"{i}\")\n",
    "        plt.xticks([])\n",
    "        plt.yticks([])"
   ]
  },
  {
   "cell_type": "code",
   "execution_count": 12,
   "metadata": {},
   "outputs": [
    {
     "ename": "TypeError",
     "evalue": "'NoneType' object is not iterable",
     "output_type": "error",
     "traceback": [
      "\u001b[0;31m---------------------------------------------------------------------------\u001b[0m",
      "\u001b[0;31mTypeError\u001b[0m                                 Traceback (most recent call last)",
      "\u001b[0;32m/tmp/ipykernel_617288/127064594.py\u001b[0m in \u001b[0;36m<module>\u001b[0;34m\u001b[0m\n\u001b[1;32m      9\u001b[0m     \u001b[0mheight\u001b[0m\u001b[0;34m,\u001b[0m \u001b[0mwidth\u001b[0m\u001b[0;34m,\u001b[0m \u001b[0m_\u001b[0m \u001b[0;34m=\u001b[0m \u001b[0mimg\u001b[0m\u001b[0;34m.\u001b[0m\u001b[0mshape\u001b[0m\u001b[0;34m\u001b[0m\u001b[0;34m\u001b[0m\u001b[0m\n\u001b[1;32m     10\u001b[0m \u001b[0;34m\u001b[0m\u001b[0m\n\u001b[0;32m---> 11\u001b[0;31m     \u001b[0;32mfor\u001b[0m \u001b[0mhand_landmarks\u001b[0m \u001b[0;32min\u001b[0m \u001b[0mresults\u001b[0m\u001b[0;34m.\u001b[0m\u001b[0mmulti_hand_landmarks\u001b[0m\u001b[0;34m:\u001b[0m\u001b[0;34m\u001b[0m\u001b[0;34m\u001b[0m\u001b[0m\n\u001b[0m\u001b[1;32m     12\u001b[0m         mp_drawing.draw_landmarks(\n\u001b[1;32m     13\u001b[0m           \u001b[0mout\u001b[0m\u001b[0;34m,\u001b[0m\u001b[0;34m\u001b[0m\u001b[0;34m\u001b[0m\u001b[0m\n",
      "\u001b[0;31mTypeError\u001b[0m: 'NoneType' object is not iterable"
     ]
    }
   ],
   "source": [
    "img = cv2.cvtColor(cv2.imread(\"hands2.jpg\"), cv2.COLOR_BGR2RGB)\n",
    "img = cv2.flip(img, 1)\n",
    "\n",
    "with mp_hands.Hands(static_image_mode=True, max_num_hands=2) as hands:\n",
    "    results = hands.process(img)\n",
    "\n",
    "    out = img.copy()\n",
    "\n",
    "    height, width, _ = img.shape\n",
    "    \n",
    "    for hand_landmarks in results.multi_hand_landmarks:\n",
    "        mp_drawing.draw_landmarks(\n",
    "          out,\n",
    "          hand_landmarks,\n",
    "          mp_hands.HAND_CONNECTIONS,\n",
    "          mp_drawing_styles.get_default_hand_landmarks_style(),\n",
    "          mp_drawing_styles.get_default_hand_connections_style()\n",
    "        )\n",
    "\n",
    "display_color_row(img, out)"
   ]
  }
 ],
 "metadata": {
  "interpreter": {
   "hash": "62eb3e910e44ea0e9978ea29c6f3fc7540fb99bfa181faf1a80d42ed442aa249"
  },
  "kernelspec": {
   "display_name": "Python 3.8.10 64-bit ('unifranz': virtualenv)",
   "name": "python3"
  },
  "language_info": {
   "codemirror_mode": {
    "name": "ipython",
    "version": 3
   },
   "file_extension": ".py",
   "mimetype": "text/x-python",
   "name": "python",
   "nbconvert_exporter": "python",
   "pygments_lexer": "ipython3",
   "version": "3.8.10"
  },
  "orig_nbformat": 4
 },
 "nbformat": 4,
 "nbformat_minor": 2
}
